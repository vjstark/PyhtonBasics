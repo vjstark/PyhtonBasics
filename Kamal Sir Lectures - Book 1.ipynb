{
 "cells": [
  {
   "cell_type": "markdown",
   "metadata": {},
   "source": [
    "## Lecture One"
   ]
  },
  {
   "cell_type": "code",
   "execution_count": 1,
   "metadata": {},
   "outputs": [
    {
     "name": "stdout",
     "output_type": "stream",
     "text": [
      "Enter the first number:1\n",
      "Enter the second number:2\n",
      "answer= 3\n"
     ]
    }
   ],
   "source": [
    "##pp to add two numbers\n",
    "n1= int(input(\"Enter the first number:\"))\n",
    "n2= int(input(\"Enter the second number:\"))\n",
    "sum = n1 + n2\n",
    "print(\"answer=\",sum)"
   ]
  },
  {
   "cell_type": "code",
   "execution_count": 2,
   "metadata": {},
   "outputs": [
    {
     "name": "stdout",
     "output_type": "stream",
     "text": [
      "Enter the first number:1\n",
      "Enter the second number:2\n",
      "n1: 1 n2: 2\n",
      "n1: 2 n2: 1\n"
     ]
    }
   ],
   "source": [
    "##pp to exchange/swap two numbers\n",
    "a= int(input(\"Enter the first number:\"))\n",
    "b= int(input(\"Enter the second number:\"))\n",
    "print(\"n1:\",a,\"n2:\",b)\n",
    "#not a pythonic way of doing it.\n",
    "a=a+b\n",
    "b=a-b\n",
    "a=a-b\n",
    "print(\"n1:\",a,\"n2:\",b)"
   ]
  },
  {
   "cell_type": "code",
   "execution_count": 3,
   "metadata": {},
   "outputs": [
    {
     "name": "stdout",
     "output_type": "stream",
     "text": [
      "Enter the first number:1\n",
      "Enter the seccind number:2\n",
      "n1: 1 n2: 2\n",
      "n1: 2 n2: 1\n"
     ]
    }
   ],
   "source": [
    "##pp to exchange/swap two numbers\n",
    "a= int(input(\"Enter the first number:\"))\n",
    "b= int(input(\"Enter the seccind number:\"))\n",
    "print(\"n1:\",a,\"n2:\",b)\n",
    "a,b = b,a\n",
    "print(\"n1:\",a,\"n2:\",b)"
   ]
  },
  {
   "cell_type": "markdown",
   "metadata": {},
   "source": [
    "## Lecture Two"
   ]
  },
  {
   "cell_type": "code",
   "execution_count": 4,
   "metadata": {},
   "outputs": [
    {
     "name": "stdout",
     "output_type": "stream",
     "text": [
      "Enter the marks out of 100 :34\n",
      "Marks: 34 Grade: D\n"
     ]
    }
   ],
   "source": [
    "#pp to sshow the grade for the given marks\n",
    "#>90 -> A|>80 -> B|<65->C|else D\n",
    "m = int(input(\"Enter the marks out of 100 :\"))\n",
    "if m>90:\n",
    "    grade =\"A\"\n",
    "elif m>80:\n",
    "    grade =\"B\"\n",
    "elif m>65:\n",
    "    grade =\"C\"\n",
    "else:\n",
    "    grade =\"D\"\n",
    "print(\"Marks:\",m,\"Grade:\",grade)"
   ]
  },
  {
   "cell_type": "code",
   "execution_count": 5,
   "metadata": {},
   "outputs": [
    {
     "name": "stdout",
     "output_type": "stream",
     "text": [
      "Enter the year:123\n",
      "It is not a leap year\n"
     ]
    }
   ],
   "source": [
    "##pp to check leap year\n",
    "#either every 4 years or every 4th century\n",
    "y = int(input(\"Enter the year:\"))\n",
    "if((y%100 != 0 and y%4 ==0) or (y%100 ==0 and y%400 ==0)):\n",
    "    print(\"It is a leap year\")\n",
    "else:\n",
    "    print(\"It is not a leap year\")"
   ]
  },
  {
   "cell_type": "code",
   "execution_count": 6,
   "metadata": {},
   "outputs": [
    {
     "ename": "ValueError",
     "evalue": "could not convert string to float: '-f'",
     "output_type": "error",
     "traceback": [
      "\u001b[0;31m---------------------------------------------------------------------------\u001b[0m",
      "\u001b[0;31mValueError\u001b[0m                                Traceback (most recent call last)",
      "\u001b[0;32m<ipython-input-6-e83f71b246f5>\u001b[0m in \u001b[0;36m<module>\u001b[0;34m()\u001b[0m\n\u001b[1;32m      2\u001b[0m \u001b[0;31m#this code is supposed to take input directly from the terminal\u001b[0m\u001b[0;34m\u001b[0m\u001b[0;34m\u001b[0m\u001b[0m\n\u001b[1;32m      3\u001b[0m \u001b[0;32mimport\u001b[0m \u001b[0msys\u001b[0m\u001b[0;34m\u001b[0m\u001b[0m\n\u001b[0;32m----> 4\u001b[0;31m \u001b[0mn1\u001b[0m \u001b[0;34m=\u001b[0m \u001b[0mfloat\u001b[0m\u001b[0;34m(\u001b[0m\u001b[0msys\u001b[0m\u001b[0;34m.\u001b[0m\u001b[0margv\u001b[0m\u001b[0;34m[\u001b[0m\u001b[0;36m1\u001b[0m\u001b[0;34m]\u001b[0m\u001b[0;34m)\u001b[0m\u001b[0;34m\u001b[0m\u001b[0m\n\u001b[0m\u001b[1;32m      5\u001b[0m \u001b[0mn2\u001b[0m \u001b[0;34m=\u001b[0m \u001b[0mfloat\u001b[0m\u001b[0;34m(\u001b[0m\u001b[0msys\u001b[0m\u001b[0;34m.\u001b[0m\u001b[0margv\u001b[0m\u001b[0;34m[\u001b[0m\u001b[0;36m2\u001b[0m\u001b[0;34m]\u001b[0m\u001b[0;34m)\u001b[0m\u001b[0;34m\u001b[0m\u001b[0m\n\u001b[1;32m      6\u001b[0m \u001b[0mans\u001b[0m \u001b[0;34m=\u001b[0m \u001b[0mn1\u001b[0m\u001b[0;34m/\u001b[0m\u001b[0mn2\u001b[0m\u001b[0;34m\u001b[0m\u001b[0m\n",
      "\u001b[0;31mValueError\u001b[0m: could not convert string to float: '-f'"
     ]
    }
   ],
   "source": [
    "##pp to read input from CLA and find sum of two nos.\n",
    "#this code is supposed to take input directly from the terminal\n",
    "import sys\n",
    "n1 = float(sys.argv[1])\n",
    "n2 = float(sys.argv[2])\n",
    "ans = n1/n2\n",
    "print(\"answer=\",ans)\n",
    "print(\"%8.3f\"%ans)"
   ]
  },
  {
   "cell_type": "code",
   "execution_count": 7,
   "metadata": {},
   "outputs": [
    {
     "name": "stdout",
     "output_type": "stream",
     "text": [
      "Enter temp in celsius : 342\n",
      "Temperature in fahrenheit is :647.600 F or 647.6000 F\n"
     ]
    }
   ],
   "source": [
    "##pp to convert celsius to fahrenheit\n",
    "## f = 1.8c + 32\n",
    "c = float(input(\"Enter temp in celsius : \"))\n",
    "f = 1.8*c+32\n",
    "print(\"Temperature in fahrenheit is :%7.3f F or %8.4f F\"%(f,f)) \n",
    "#7 is total width and 3 is number of digits after the decimal"
   ]
  },
  {
   "cell_type": "code",
   "execution_count": 8,
   "metadata": {},
   "outputs": [
    {
     "name": "stdout",
     "output_type": "stream",
     "text": [
      "Enter your number:23\n",
      "Reverse: 32\n"
     ]
    }
   ],
   "source": [
    "##pp to reverse a number\n",
    "num = int(input(\"Enter your number:\"))\n",
    "rev = 0\n",
    "while num >0:\n",
    "    d= num%10\n",
    "    rev= rev*10+d\n",
    "    num= num//10\n",
    "print(\"Reverse:\",rev)"
   ]
  },
  {
   "cell_type": "code",
   "execution_count": 9,
   "metadata": {},
   "outputs": [
    {
     "name": "stdout",
     "output_type": "stream",
     "text": [
      "Enter your number:234\n",
      "Sum of digits is: 9\n"
     ]
    }
   ],
   "source": [
    "##pp to calculate sum of digits\n",
    "num = int(input(\"Enter your number:\"))\n",
    "sum=0\n",
    "if num<0:\n",
    "    print(\"number can't be negative\")\n",
    "else:\n",
    "    while num>0:\n",
    "        d= num%10\n",
    "        sum= sum+d\n",
    "        num= num//10\n",
    "print(\"Sum of digits is:\",sum)"
   ]
  },
  {
   "cell_type": "markdown",
   "metadata": {},
   "source": [
    "### Lecture Three"
   ]
  },
  {
   "cell_type": "code",
   "execution_count": 10,
   "metadata": {},
   "outputs": [
    {
     "name": "stdout",
     "output_type": "stream",
     "text": [
      "Enter the no. lines:4\n",
      "* \n",
      "* * \n",
      "* * * \n",
      "* * * * \n"
     ]
    }
   ],
   "source": [
    "##pp to print a pattern of stars\n",
    "n = int(input(\"Enter the no. lines:\"))\n",
    "for i in range(1,n+1):\n",
    "    print('* '*i)"
   ]
  },
  {
   "cell_type": "code",
   "execution_count": 11,
   "metadata": {},
   "outputs": [
    {
     "name": "stdout",
     "output_type": "stream",
     "text": [
      "Enter the no. lines:4\n",
      "* * * * \n",
      "* * * \n",
      "* * \n",
      "* \n"
     ]
    }
   ],
   "source": [
    "##pp to print reverse pattern\n",
    "n = int(input(\"Enter the no. lines:\"))\n",
    "for i in range(n,0,-1):\n",
    "    print('* '*i)\n",
    "#for i range(n,0,-1):\n",
    "#    for j in range(i):\n",
    "#       print('*',end='')\n",
    "#    print()"
   ]
  },
  {
   "cell_type": "code",
   "execution_count": 12,
   "metadata": {},
   "outputs": [
    {
     "name": "stdout",
     "output_type": "stream",
     "text": [
      "Enter the no. lines:4\n",
      "A\n",
      "BB\n",
      "CCC\n",
      "DDDD\n"
     ]
    }
   ],
   "source": [
    "##pp to print patter of letters\n",
    "n = int(input(\"Enter the no. lines:\"))\n",
    "a = 65\n",
    "for i in range(1,n+1):\n",
    "    s = chr(a)*i\n",
    "    print(s,end='')\n",
    "    print()\n",
    "    a += 1"
   ]
  },
  {
   "cell_type": "code",
   "execution_count": 13,
   "metadata": {},
   "outputs": [
    {
     "name": "stdout",
     "output_type": "stream",
     "text": [
      "Enter the no.: 23\n",
      "Answer = 25852016738884976640000\n"
     ]
    }
   ],
   "source": [
    "##pp to print factorial of a number\n",
    "n = int(input(\"Enter the no.: \"))\n",
    "if n<0:\n",
    "    print(\"Incorrect i/p! The no. should be positive\")\n",
    "elif (n == 0):\n",
    "    print('Answer = 1')\n",
    "else:\n",
    "    fact = 1\n",
    "    for i in range(1,n+1):\n",
    "        fact = fact*i\n",
    "    print('Answer =',fact)"
   ]
  },
  {
   "cell_type": "code",
   "execution_count": 32,
   "metadata": {},
   "outputs": [
    {
     "name": "stdout",
     "output_type": "stream",
     "text": [
      "Enter the no.: 2\n",
      "your number is a prime\n"
     ]
    }
   ],
   "source": [
    "##pp to check if your number is a prime\n",
    "n = int(input(\"Enter the no.: \"))\n",
    "if n==1:\n",
    "    print('it is neither prime nor composite')\n",
    "else:\n",
    "    for i in range(2,n):\n",
    "        if (n%i == 0):\n",
    "            print('number is not a prime')\n",
    "            break\n",
    "    else:\n",
    "        print(\"your number is a prime\")"
   ]
  },
  {
   "cell_type": "markdown",
   "metadata": {},
   "source": [
    "### Lecture Four : Arrays"
   ]
  },
  {
   "cell_type": "code",
   "execution_count": 16,
   "metadata": {},
   "outputs": [
    {
     "name": "stdout",
     "output_type": "stream",
     "text": [
      "enter the number of students3\n",
      "enter the marks12\n",
      "enter the marks123\n",
      "enter the marks12\n",
      "Max marks 123 Min marks 12\n"
     ]
    }
   ],
   "source": [
    "##pp to find max and minimum marks provided by the user\n",
    "import array\n",
    "m = array.array('i',[])\n",
    "n=int(input('enter the number of students'))\n",
    "for i in range(n):\n",
    "    ele=int(input('enter the marks'))\n",
    "    m.append(ele)\n",
    "max=min=m[0]\n",
    "for i in range(n):\n",
    "    if m[i]>max:\n",
    "        max= m[i]\n",
    "    if m[i]<min:\n",
    "        min= m[i]\n",
    "        \n",
    "print('Max marks',max,'Min marks',min)        "
   ]
  },
  {
   "cell_type": "code",
   "execution_count": 18,
   "metadata": {},
   "outputs": [
    {
     "name": "stdout",
     "output_type": "stream",
     "text": [
      "1 push,2 pop,3 peek,4 display,5 exit3\n",
      "stack is empty\n",
      "1 push,2 pop,3 peek,4 display,5 exit4\n",
      "1 push,2 pop,3 peek,4 display,5 exit1\n",
      "enter data to push: 12\n",
      "1 push,2 pop,3 peek,4 display,5 exit1\n",
      "enter data to push: 23\n",
      "1 push,2 pop,3 peek,4 display,5 exit1\n",
      "enter data to push: 23\n",
      "1 push,2 pop,3 peek,4 display,5 exit4\n",
      "1223231 push,2 pop,3 peek,4 display,5 exit5\n"
     ]
    }
   ],
   "source": [
    "##pp to implement a stack {LIFO}\n",
    "import array\n",
    "st= array.array('i',[])\n",
    "while True:\n",
    "    op= int(input(\"1 push,2 pop,3 peek,4 display,5 exit\"))\n",
    "    if op==1:\n",
    "        ele=int(input('enter data to push: '))\n",
    "        st.append(ele)\n",
    "    elif op==2:\n",
    "        if(len[st]==0):\n",
    "            print('stack is empty')\n",
    "        else:\n",
    "            ele = st.pop()\n",
    "            print('popped element',ele)\n",
    "    elif op==3:\n",
    "        if(len(st)==0):\n",
    "            print('stack is empty')\n",
    "        else:\n",
    "            ele = st[-1]\n",
    "            print('last element',ele)\n",
    "    elif op==4:\n",
    "        for i in st:\n",
    "            print(i,end='')\n",
    "    elif op==5:\n",
    "        break\n",
    "    else:\n",
    "        print('Invalid i/p')\n",
    "        "
   ]
  },
  {
   "cell_type": "code",
   "execution_count": 19,
   "metadata": {},
   "outputs": [
    {
     "name": "stdout",
     "output_type": "stream",
     "text": [
      "1 push,2 pop,3 peek,4 display,5 exit1\n",
      "enter data to push: 23\n",
      "1 push,2 pop,3 peek,4 display,5 exit3\n",
      "first element 23\n",
      "1 push,2 pop,3 peek,4 display,5 exit3\n",
      "first element 23\n",
      "1 push,2 pop,3 peek,4 display,5 exit4\n",
      "231 push,2 pop,3 peek,4 display,5 exit6\n",
      "Invalid i/p\n",
      "1 push,2 pop,3 peek,4 display,5 exit5\n"
     ]
    }
   ],
   "source": [
    "##pp to implement queue {FIFO}\n",
    "import array\n",
    "q= array.array('i',[])\n",
    "while True:\n",
    "    op= int(input(\"1 push,2 pop,3 peek,4 display,5 exit\"))\n",
    "    if op==1:\n",
    "        ele=int(input('enter data to push: '))\n",
    "        q.append(ele)\n",
    "    elif op==2:\n",
    "        if(len(q)==0):\n",
    "            print('stack is empty')\n",
    "        else:\n",
    "            ele = q.pop(0)\n",
    "            print('popped element',ele)\n",
    "    elif op==3:\n",
    "        if(len(q)==0):\n",
    "            print('stack is empty')\n",
    "        else:\n",
    "            ele = q[0]\n",
    "            print('first element',ele)\n",
    "    elif op==4:\n",
    "        for i in q:\n",
    "            print(i,end='')\n",
    "    elif op==5:\n",
    "        break\n",
    "    else:\n",
    "        print('Invalid i/p')"
   ]
  },
  {
   "cell_type": "code",
   "execution_count": 22,
   "metadata": {},
   "outputs": [
    {
     "name": "stdout",
     "output_type": "stream",
     "text": [
      "enter no. of inputs3\n",
      "enter number: 23\n",
      "enter number: 43\n",
      "enter number: 1\n",
      "array('i', [23, 43, 1])\n",
      "array('i', [1, 23, 43])\n"
     ]
    }
   ],
   "source": [
    "##pp to sort an array\n",
    "import array\n",
    "num =array.array('i',[])\n",
    "n=int(input('enter no. of inputs'))\n",
    "for i in range(n):\n",
    "    d=int(input('enter number: '))\n",
    "    num.append(d)\n",
    "print(num)\n",
    "for i in range(n):\n",
    "    for j in range(i+1,n):\n",
    "        if num[i]>num[j]:\n",
    "            num[i],num[j] = num[j],num[i]\n",
    "print(num)"
   ]
  },
  {
   "cell_type": "code",
   "execution_count": 24,
   "metadata": {},
   "outputs": [
    {
     "name": "stdout",
     "output_type": "stream",
     "text": [
      "enter no. of subjects3\n",
      "enter marks12\n",
      "enter marks23\n",
      "enter marks34\n",
      "sum=  69\n"
     ]
    }
   ],
   "source": [
    "##pp to find sum of subject marks provided by the user\n",
    "import array\n",
    "marks =array.array('i',[])\n",
    "n=int(input('enter no. of subjects'))\n",
    "for i in range(n):\n",
    "    m=int(input('enter marks'))\n",
    "    marks.append(m)\n",
    "sum=0\n",
    "for i in marks:\n",
    "    sum += i\n",
    "print('sum= ',sum)"
   ]
  },
  {
   "cell_type": "markdown",
   "metadata": {},
   "source": [
    "### Lecture 4: Strings"
   ]
  },
  {
   "cell_type": "code",
   "execution_count": 34,
   "metadata": {},
   "outputs": [
    {
     "name": "stdout",
     "output_type": "stream",
     "text": [
      "Enter the String: nitin\n",
      "It is a palindrome\n"
     ]
    }
   ],
   "source": [
    "##pp to check if a string is a palindrome:\n",
    "org = input('Enter the String: ')\n",
    "org = org.lower()\n",
    "rev = org[::-1]\n",
    "\n",
    "if org==rev:\n",
    "    print('It is a palindrome')\n",
    "else:\n",
    "    print('It is not a palindrome')"
   ]
  },
  {
   "cell_type": "code",
   "execution_count": 37,
   "metadata": {},
   "outputs": [
    {
     "name": "stdout",
     "output_type": "stream",
     "text": [
      "Enter User Name: Virat\n",
      "········\n",
      "success\n"
     ]
    }
   ],
   "source": [
    "##pp to perform a login operation\n",
    "#import getpass\n",
    "from getpass import getpass\n",
    "un = input('Enter User Name: ')\n",
    "pw = getpass()\n",
    "#print(pw)\n",
    "if((un=='Virat')and(pw=='asdf')):\n",
    "    print('success')\n",
    "else:\n",
    "    print('failure')"
   ]
  },
  {
   "cell_type": "code",
   "execution_count": 42,
   "metadata": {},
   "outputs": [
    {
     "name": "stdout",
     "output_type": "stream",
     "text": [
      "Enter the string: asdf\n",
      "4\n"
     ]
    }
   ],
   "source": [
    "##pp to count number of characters in a string\n",
    "s = input('Enter the string: ')\n",
    "if s=='':\n",
    "    count=0\n",
    "else:\n",
    "    count = s.rindex(s[-1])+1\n",
    "print(count)\n",
    "\n",
    "#for i in str:\n",
    "#   count+=1"
   ]
  },
  {
   "cell_type": "code",
   "execution_count": 61,
   "metadata": {},
   "outputs": [
    {
     "name": "stdout",
     "output_type": "stream",
     "text": [
      "Enter a single character :4\n",
      "It is a digit\n"
     ]
    }
   ],
   "source": [
    "##pp to check if given character is a digit, alphabet or some other character.\n",
    "s = input('Enter a single character :')\n",
    "#ch = s[0]\n",
    "while True:\n",
    "    if len(s)>1 or len(s)<=0:\n",
    "        print('Enter a single character only.')\n",
    "        break\n",
    "    else:\n",
    "        if s.isalpha():\n",
    "            print('It is a alphabet')\n",
    "            break\n",
    "        elif s.isdigit():\n",
    "            print('It is a digit')\n",
    "            break\n",
    "        else:\n",
    "            print('It is some other character')\n",
    "            break"
   ]
  },
  {
   "cell_type": "code",
   "execution_count": 62,
   "metadata": {},
   "outputs": [
    {
     "name": "stdout",
     "output_type": "stream",
     "text": [
      "Enter the first string: asdf\n",
      "Enter the second string: fdsa\n",
      "It is an anagram\n"
     ]
    }
   ],
   "source": [
    "##pp to check if given two strings are anagrams\n",
    "s1 = input('Enter the first string: ')\n",
    "s1 = sorted(s1.lower())\n",
    "s2 = input('Enter the second string: ')\n",
    "s2 = sorted(s2.lower())\n",
    "a = False\n",
    "if len(s1) != len(s2):\n",
    "    a = False\n",
    "else:\n",
    "    for i in range(len(s1)):\n",
    "        if s1[i]==s2[i]:\n",
    "            a = True\n",
    "        else:\n",
    "            a = False\n",
    "if a == True:\n",
    "    print('It is an anagram')\n",
    "else:\n",
    "    print('It is not an anagram')"
   ]
  },
  {
   "cell_type": "code",
   "execution_count": 67,
   "metadata": {},
   "outputs": [
    {
     "name": "stdout",
     "output_type": "stream",
     "text": [
      "Enter the stringVirat\n",
      "Virat\n",
      "Vrt\n"
     ]
    }
   ],
   "source": [
    "##pp to remove occurences of vowel in a string\n",
    "s = input('Enter the string')\n",
    "ns = s\n",
    "for i in s:\n",
    "    if i in ['a','e','i','o','u','A','E','I','O','U']:\n",
    "        ns=ns.replace(i,'')\n",
    "print(s)\n",
    "print(ns)"
   ]
  },
  {
   "cell_type": "markdown",
   "metadata": {},
   "source": [
    "### Lecture Five: Functions"
   ]
  },
  {
   "cell_type": "code",
   "execution_count": 2,
   "metadata": {},
   "outputs": [
    {
     "name": "stdout",
     "output_type": "stream",
     "text": [
      "enter first number123\n",
      "enter second number124\n",
      "Result:  15252\n"
     ]
    }
   ],
   "source": [
    "##pp to find product of two numbers\n",
    "def product(x,y):\n",
    "    ans=x*y\n",
    "    return ans\n",
    "\n",
    "n1=int(input('enter first number'))\n",
    "n2=int(input('enter second number'))\n",
    "res=product(n1,n2)\n",
    "print('Result: ',res)"
   ]
  },
  {
   "cell_type": "code",
   "execution_count": 7,
   "metadata": {},
   "outputs": [
    {
     "name": "stdout",
     "output_type": "stream",
     "text": [
      "enter first number: 123\n",
      "enter second number: 2\n",
      "Result:  246\n"
     ]
    }
   ],
   "source": [
    "##pp to find product recursively\n",
    "def productr(x,y):\n",
    "    if x==0 or y==0:\n",
    "        return 0\n",
    "    else:\n",
    "        return x+productr(x,y-1)\n",
    "    \n",
    "n1=int(input('enter first number: '))\n",
    "n2=int(input('enter second number: '))\n",
    "res=productr(n1,n2)\n",
    "print('Result: ',res)"
   ]
  },
  {
   "cell_type": "code",
   "execution_count": 34,
   "metadata": {},
   "outputs": [
    {
     "name": "stdout",
     "output_type": "stream",
     "text": [
      "enter first number4568\n",
      "Result:  23\n"
     ]
    }
   ],
   "source": [
    "##pp to find the sum of digits\n",
    "def sod(n):\n",
    "    sum=0\n",
    "    while n>0:\n",
    "        d = n%10\n",
    "        n = n//10\n",
    "        sum = sum + d\n",
    "    return sum\n",
    "n1=int(input('enter first number'))\n",
    "res=sod(n1)\n",
    "print('Result: ',res)"
   ]
  },
  {
   "cell_type": "code",
   "execution_count": 10,
   "metadata": {},
   "outputs": [
    {
     "name": "stdout",
     "output_type": "stream",
     "text": [
      "enter the number123\n",
      "Result:  6\n"
     ]
    }
   ],
   "source": [
    "##pp to find the sum of digits recursively\n",
    "def addr(n):\n",
    "    if n>0:\n",
    "        return addr(n//10)+n%10\n",
    "    else:\n",
    "        return 0\n",
    "\n",
    "n1=int(input('enter the number'))\n",
    "res=addr(n1)\n",
    "print('Result: ',res)"
   ]
  },
  {
   "cell_type": "code",
   "execution_count": 45,
   "metadata": {},
   "outputs": [
    {
     "name": "stdout",
     "output_type": "stream",
     "text": [
      "Area of Circle: 314.1592653589793\n",
      "Area of rectangle: 782\n"
     ]
    }
   ],
   "source": [
    "##pp to perform method overloading to find area of circle and rectangle\n",
    "def area(val1=None,val2=None):\n",
    "    if val1!=None and val2!=None:\n",
    "        a = val1*val2\n",
    "        print('Area of rectangle:',a)\n",
    "    elif val1!=None:\n",
    "        import math\n",
    "        a = math.pi*(val1**2)\n",
    "        print('Area of Circle:',a)\n",
    "\n",
    "area(10)\n",
    "area(34,23)"
   ]
  },
  {
   "cell_type": "code",
   "execution_count": 46,
   "metadata": {},
   "outputs": [],
   "source": [
    "##pp to find fibonacci series w and w/o reccursion"
   ]
  },
  {
   "cell_type": "markdown",
   "metadata": {},
   "source": [
    "### Lecture Six: Data Types"
   ]
  },
  {
   "cell_type": "code",
   "execution_count": 2,
   "metadata": {},
   "outputs": [
    {
     "name": "stdout",
     "output_type": "stream",
     "text": [
      "enter the no. of elements4\n",
      "Enter the number: 12\n",
      "Enter the number: 3123\n",
      "Enter the number: 12\n",
      "Enter the number: 314\n",
      "[12, 12, 314, 3123]\n"
     ]
    }
   ],
   "source": [
    "##pp to implement bubble sort using lists\n",
    "\n",
    "l =[]\n",
    "print('enter the no. of elements',end='')\n",
    "num = int(input())\n",
    "\n",
    "for i in range(num):\n",
    "    ele = int(input('Enter the number: '))\n",
    "    l.append(ele)\n",
    "\n",
    "for i in range(num):\n",
    "    for j in range(i+1,num):\n",
    "        if l[i]>l[j]:\n",
    "            l[i],l[j] = l[j],l[i]\n",
    "            \n",
    "print(l)"
   ]
  },
  {
   "cell_type": "code",
   "execution_count": 8,
   "metadata": {},
   "outputs": [
    {
     "name": "stdout",
     "output_type": "stream",
     "text": [
      "Enter the numbre of elements: 2\n",
      "Enter the number: 12\n",
      "Enter the number: 13\n",
      "Enter the number to be searched: 2\n",
      "Element not found\n"
     ]
    }
   ],
   "source": [
    "##pp to implement linear search using lists\n",
    "l=[]\n",
    "num = int(input('Enter the numbre of elements: '))\n",
    "\n",
    "for i in range(num):\n",
    "    ele = int(input('Enter the number: '))\n",
    "    l.append(ele)\n",
    "    \n",
    "si = int(input('Enter the number to be searched: '))\n",
    "for i in range(num):\n",
    "    if l[i] == si:\n",
    "        print('Element found at index',i)\n",
    "        break\n",
    "    else:\n",
    "        print('Element not found')\n",
    "        break"
   ]
  },
  {
   "cell_type": "code",
   "execution_count": 22,
   "metadata": {},
   "outputs": [
    {
     "name": "stdout",
     "output_type": "stream",
     "text": [
      "1:Stack 2:Queue 3:Exit 2\n",
      "1 push,2 pop,3 peek,4 display,5 exit1\n",
      "enter data to push: 23\n",
      "1 push,2 pop,3 peek,4 display,5 exit1\n",
      "enter data to push: 34\n",
      "1 push,2 pop,3 peek,4 display,5 exit1\n",
      "enter data to push: 254\n",
      "1 push,2 pop,3 peek,4 display,5 exit1\n",
      "enter data to push: 23\n",
      "1 push,2 pop,3 peek,4 display,5 exit2\n",
      "popped element 23\n",
      "1 push,2 pop,3 peek,4 display,5 exit3\n",
      "first element 34\n",
      "1 push,2 pop,3 peek,4 display,5 exit4\n",
      "34  254  23  1 push,2 pop,3 peek,4 display,5 exit5\n",
      "1:Stack 2:Queue 3:Exit 3\n"
     ]
    }
   ],
   "source": [
    "##pp to implement LIFO or FIFO (stack and queue using list)\n",
    "d=[]\n",
    "while True:\n",
    "    qs = int(input('1:Stack 2:Queue 3:Exit '))\n",
    "    if qs == 1:\n",
    "        while True:\n",
    "            op= int(input(\"1 push,2 pop,3 peek,4 display,5 exit\"))\n",
    "            if op==1:\n",
    "                ele=int(input('enter data to push: '))\n",
    "                d.append(ele)\n",
    "            elif op==2:\n",
    "                if(len(d)==0):\n",
    "                    print('stack is empty')\n",
    "                else:\n",
    "                    ele = d.pop()\n",
    "                    print('popped element',ele)\n",
    "            elif op==3:\n",
    "                if(len(d)==0):\n",
    "                    print('stack is empty')\n",
    "                else:\n",
    "                    ele = d[-1]\n",
    "                    print('last element',ele)\n",
    "            elif op==4:\n",
    "                for i in d:\n",
    "                    print(i,end='  ')\n",
    "            elif op==5:\n",
    "                break\n",
    "            else:\n",
    "                print('Invalid i/p')\n",
    "    elif qs == 2:\n",
    "        while True:\n",
    "            op= int(input(\"1 push,2 pop,3 peek,4 display,5 exit\"))\n",
    "            if op==1:\n",
    "                ele=int(input('enter data to push: '))\n",
    "                d.append(ele)\n",
    "            elif op==2:\n",
    "                if(len(d)==0):\n",
    "                    print('stack is empty')\n",
    "                else:\n",
    "                    ele = d.pop(0)\n",
    "                    print('popped element',ele)\n",
    "            elif op==3:\n",
    "                if(len(d)==0):\n",
    "                    print('stack is empty')\n",
    "                else:\n",
    "                    ele = d[0]\n",
    "                    print('first element',ele)\n",
    "            elif op==4:\n",
    "                for i in d:\n",
    "                    print(i,end='  ')\n",
    "            elif op==5:\n",
    "                break\n",
    "            else:\n",
    "                print('Invalid i/p')\n",
    "    elif qs == 3:\n",
    "        print('You have now exit the structure')\n",
    "        break\n",
    "    else:\n",
    "        print('Invalid i/p')"
   ]
  },
  {
   "cell_type": "code",
   "execution_count": 21,
   "metadata": {},
   "outputs": [
    {
     "name": "stdout",
     "output_type": "stream",
     "text": [
      "upma\n",
      "idli\n",
      "poha\n",
      "1:add item 2:generate bill1\n",
      "Enter item name: upma\n",
      "Enter quantity: 3\n",
      "1:add item 2:generate bill1\n",
      "Enter item name: idli\n",
      "Enter quantity: 453\n",
      "1:add item 2:generate bill2\n",
      "Bill:  13650\n"
     ]
    }
   ],
   "source": [
    "##pp to implement bill generation\n",
    "\n",
    "menu = {'upma':20,'idli':30,'poha':25}\n",
    "for i in menu.keys():\n",
    "    print(i)\n",
    "bill = 0\n",
    "while True:\n",
    "    b = int(input(\"1:add item 2:generate bill\"))\n",
    "    if b==1:\n",
    "        i=input(\"Enter item name: \")\n",
    "        q=int(input(\"Enter quantity: \"))\n",
    "        iam = menu.get(i,0) #key,default value\n",
    "        bill = bill + iam*q\n",
    "    else:\n",
    "        break\n",
    "print(\"Your Bill is: \",bill)"
   ]
  }
 ],
 "metadata": {
  "kernelspec": {
   "display_name": "Python 3",
   "language": "python",
   "name": "python3"
  },
  "language_info": {
   "codemirror_mode": {
    "name": "ipython",
    "version": 3
   },
   "file_extension": ".py",
   "mimetype": "text/x-python",
   "name": "python",
   "nbconvert_exporter": "python",
   "pygments_lexer": "ipython3",
   "version": "3.6.4"
  }
 },
 "nbformat": 4,
 "nbformat_minor": 2
}
