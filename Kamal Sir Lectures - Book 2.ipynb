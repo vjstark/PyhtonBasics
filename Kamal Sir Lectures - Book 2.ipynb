{
 "cells": [
  {
   "cell_type": "markdown",
   "metadata": {},
   "source": [
    "### Lecture 7"
   ]
  },
  {
   "cell_type": "code",
   "execution_count": 5,
   "metadata": {},
   "outputs": [
    {
     "name": "stdout",
     "output_type": "stream",
     "text": [
      "1:add, 2:view, 3:count, 4:exit 1\n",
      "Enter RollNo., Name and Marks: 12 Virat 45\n",
      "1:add, 2:view, 3:count, 4:exit 1\n",
      "Enter RollNo., Name and Marks: 12 Jack 23\n",
      "1:add, 2:view, 3:count, 4:exit 2\n",
      "Rno: 12 Name: Virat Marks: 45\n",
      "Rno: 12 Name: Jack Marks: 23\n",
      "1:add, 2:view, 3:count, 4:exit 3\n",
      "Total no. of students:  2\n",
      "1:add, 2:view, 3:count, 4:exit 4\n"
     ]
    }
   ],
   "source": [
    "#pp to demonstrate class and methods\n",
    "class Student:\n",
    "    ns = 0 #no. of students..static var\n",
    "    def __init__(self,rno,name,marks): #parametrized initializer\n",
    "        self.rno = rno\n",
    "        self.name = name\n",
    "        self.marks = marks\n",
    "        Student.ns = Student.ns +1\n",
    "    \n",
    "    def showinfo(self):\n",
    "        print('Rno:',self.rno,'Name:',self.name,'Marks:',self.marks)\n",
    "        #if you remove self from instance variable it will say that the variable is not defined\n",
    "        \n",
    "    @staticmethod\n",
    "    def showcount():\n",
    "        print('Total no. of students: ',Student.ns)\n",
    "\n",
    "#e1 = Student(10,'Amit',69)\n",
    "#e1.showinfo()\n",
    "#e1.showcount()\n",
    "st=[]\n",
    "while True:\n",
    "    op = int(input('1:add, 2:view, 3:count, 4:exit '))\n",
    "    if op==1:\n",
    "        info = input('Enter RollNo., Name and Marks: ')\n",
    "        data = info.split()\n",
    "        rno = int(data[0])\n",
    "        name = data[1]\n",
    "        marks = int(data[2])\n",
    "        s = Student(rno,name,marks)\n",
    "        st.append(s)\n",
    "    elif op==2:\n",
    "        for i in range(len(st)):\n",
    "            st[i].showinfo()\n",
    "    elif op==3:\n",
    "        Student.showcount()\n",
    "    elif op==4:\n",
    "        break\n",
    "    else:\n",
    "        print('invalid input')"
   ]
  },
  {
   "cell_type": "code",
   "execution_count": 9,
   "metadata": {},
   "outputs": [
    {
     "name": "stdout",
     "output_type": "stream",
     "text": [
      "Enter the length: 12\n",
      "Enter the breadth: 12\n",
      "area:  144\n"
     ]
    }
   ],
   "source": [
    "##pp for OOP for Rectangle -> data length and width -> method area\n",
    "class Rectangle:\n",
    "    def __init__(self):\n",
    "        self.length= 0\n",
    "        self.breadth = 0\n",
    "        \n",
    "    def area(self):\n",
    "        ans = self.length*self.breadth\n",
    "        print('area: ',ans)\n",
    "    \n",
    "r1 = Rectangle()\n",
    "r1.length = int(input('Enter the length: '))\n",
    "r1.breadth = int(input('Enter the breadth: '))\n",
    "r1.area()"
   ]
  },
  {
   "cell_type": "code",
   "execution_count": 12,
   "metadata": {},
   "outputs": [
    {
     "name": "stdout",
     "output_type": "stream",
     "text": [
      "Enter the radius: 10\n",
      "Area:  314.1592653589793\n",
      "Circumference:  62.83185307179586\n"
     ]
    }
   ],
   "source": [
    "##pp to write class circle\n",
    "import math\n",
    "class Circle:\n",
    "    def __init__(self,radius):\n",
    "        self.radius=radius\n",
    "    \n",
    "    def showarea(self):\n",
    "        ar = math.pi*self.radius**2\n",
    "        print('Area: ',ar)\n",
    "        \n",
    "    def showcircum(self):\n",
    "        cr = 2*math.pi*r\n",
    "        print('Circumference: ',cr)\n",
    "        \n",
    "r = int(input('Enter the radius: '))\n",
    "c1= Circle(r)\n",
    "c1.showarea()\n",
    "c1.showcircum()"
   ]
  },
  {
   "cell_type": "code",
   "execution_count": 23,
   "metadata": {},
   "outputs": [
    {
     "name": "stdout",
     "output_type": "stream",
     "text": [
      "1:add, 2:view salary, 3:view bonus, 4:exit 1\n",
      "Enter the employee id, name and salary: 10 Virat 10000\n",
      "1:add, 2:view salary, 3:view bonus, 4:exit 2\n",
      "eid 10 Name Virat Yearly salary:  120000\n",
      "1:add, 2:view salary, 3:view bonus, 4:exit 3\n",
      "eid 10 Name Virat bonus:  1500.0\n",
      "1:add, 2:view salary, 3:view bonus, 4:exit 4\n"
     ]
    }
   ],
   "source": [
    "##pp to write class employee\n",
    "l=[]\n",
    "class Employee:\n",
    "    def __init__(self,eid,name,salary):\n",
    "        self.eid = eid\n",
    "        self.name = name\n",
    "        self.salary = salary\n",
    "        \n",
    "    def show_salary(self):\n",
    "        ys = self.salary*12\n",
    "        print('eid',self.eid,'Name',self.name,'Yearly salary: ',ys)\n",
    "        \n",
    "    def show_bonus(self):\n",
    "        bonus = self.salary*0.15\n",
    "        print('eid',self.eid,'Name',self.name,'bonus: ',bonus)\n",
    "\n",
    "while True:\n",
    "    op = int(input('1:add, 2:view salary, 3:view bonus, 4:exit '))\n",
    "    if op==1:\n",
    "        info = input('Enter the employee id, name and salary: ')\n",
    "        data = info.split()\n",
    "        eid = int(data[0])\n",
    "        name = data[1]\n",
    "        salary = int(data[2])\n",
    "        e = Employee(eid,name,salary)\n",
    "        l.append(e)\n",
    "    elif op==2:\n",
    "            e.show_salary()\n",
    "    elif op==3:\n",
    "            e.show_bonus()\n",
    "    elif op==4:\n",
    "        break\n",
    "    else:\n",
    "        print('invalid input')"
   ]
  },
  {
   "cell_type": "code",
   "execution_count": 30,
   "metadata": {},
   "outputs": [
    {
     "name": "stdout",
     "output_type": "stream",
     "text": [
      "1750 250 True False\n"
     ]
    }
   ],
   "source": [
    "##Overriding\n",
    "class Mech:\n",
    "    def __init__(self,nop):\n",
    "        self.nop=nop\n",
    "        \n",
    "    def __add__(self,other):\n",
    "        a = self.nop + other.nop\n",
    "        return a\n",
    "    \n",
    "    def __sub__(self,other):\n",
    "        return self.nop - other.nop\n",
    "    \n",
    "    def __gt__(self,other):\n",
    "        a = self.nop > other.nop\n",
    "        return a\n",
    "\n",
    "\n",
    "class Bee:\n",
    "    def __init__(self,nop):\n",
    "        self.nop=nop\n",
    "        \n",
    "    def __gt__(self,other):\n",
    "        a = self.nop > other.nop\n",
    "        return a\n",
    "        \n",
    "m1=Mech(1000)\n",
    "b1=Bee(750)\n",
    "r1 = m1 + b1 #m1 is calling add function and b1 is being passed, so overriding in Mech\n",
    "r2 = m1 - b1\n",
    "r3 = m1 > b1\n",
    "r4 = b1 > m1\n",
    "print(r1,r2,r3,r4)"
   ]
  },
  {
   "cell_type": "code",
   "execution_count": 32,
   "metadata": {},
   "outputs": [
    {
     "name": "stdout",
     "output_type": "stream",
     "text": [
      "4400\n"
     ]
    }
   ],
   "source": [
    "class Emp:\n",
    "    def __init__(self,eid,name,pds):\n",
    "        self.eid=eid\n",
    "        self.name=name\n",
    "        self.pds=pds\n",
    "        \n",
    "    def __mul__(self,other):\n",
    "        sal = self.pds * other.nodp\n",
    "        return sal\n",
    "    \n",
    "class Atten:\n",
    "    def __init__(self,nodp):\n",
    "        self.nodp=nodp\n",
    "\n",
    "e = Emp(10,'Amit',200)\n",
    "a = Atten(22)\n",
    "sal = e * a\n",
    "print(sal)"
   ]
  },
  {
   "cell_type": "markdown",
   "metadata": {},
   "source": [
    "### Lecture 8"
   ]
  },
  {
   "cell_type": "code",
   "execution_count": 4,
   "metadata": {},
   "outputs": [
    {
     "name": "stdout",
     "output_type": "stream",
     "text": [
      "1 check, 2 exit: 1\n",
      "Enter a number: 0\n",
      "Even\n",
      "1 check, 2 exit: 0\n",
      "Invalid input\n",
      "1 check, 2 exit: 1\n",
      "Enter a number: 12\n",
      "Even\n",
      "1 check, 2 exit: 1\n",
      "Enter a number: 12345\n",
      "Odd\n",
      "1 check, 2 exit: 2\n"
     ]
    }
   ],
   "source": [
    "##pp to check if a number is even or odd\n",
    "while True:\n",
    "    try:\n",
    "        op=int(input(\"1 check, 2 exit: \"))\n",
    "        if op==1:\n",
    "            num = int(input('Enter a number: '))\n",
    "            if num%2 == 0:\n",
    "                print('Even')\n",
    "            else:\n",
    "                print('Odd')\n",
    "        elif op==2:\n",
    "            break\n",
    "        else:\n",
    "            print('Invalid input')\n",
    "    except ValueError:\n",
    "        print('You can only input integers')"
   ]
  },
  {
   "cell_type": "code",
   "execution_count": 7,
   "metadata": {},
   "outputs": [
    {
     "name": "stdout",
     "output_type": "stream",
     "text": [
      "You can only input integers\n"
     ]
    }
   ],
   "source": [
    "## pp to access 2 command line arguments n1 and n2 and perform ans = n1/n2\n",
    "import sys\n",
    "try:\n",
    "    n1= int(sys.argv[1])\n",
    "    n2= int(sys.argv[2])\n",
    "    ans = n1/n2\n",
    "    print(\"answer=\",ans)\n",
    "except ValueError:\n",
    "    print('You can only input integers')\n",
    "except IndexError:\n",
    "    print('Please enter both the numbers')\n",
    "except ZeroDivisionError:\n",
    "    print('you cannot divide by zero')"
   ]
  },
  {
   "cell_type": "code",
   "execution_count": 2,
   "metadata": {},
   "outputs": [
    {
     "name": "stdout",
     "output_type": "stream",
     "text": [
      "Please enter a number23\n",
      "23\n"
     ]
    }
   ],
   "source": [
    "## pp to check if the user has entered a number\n",
    "try:\n",
    "    n1= int(input('Please enter a number'))\n",
    "    print(n1)\n",
    "except ValueError:\n",
    "    print('Number not entered')"
   ]
  },
  {
   "cell_type": "markdown",
   "metadata": {},
   "source": [
    "### Lecture 9"
   ]
  },
  {
   "cell_type": "markdown",
   "metadata": {},
   "source": [
    "## file operations"
   ]
  },
  {
   "cell_type": "markdown",
   "metadata": {},
   "source": [
    "##pp to perform file operations\n",
    "import os\n",
    "while True:\n",
    "\ttry:\n",
    "\t\top= int(input('1:Create File, 2:Delete File, 3:Read File, 4:Write File, 5:Exit : '))\n",
    "\t\t#Create File\n",
    "\t\tif op==1:\n",
    "\t\t\tfn= input('Enter file name to be created: ')\n",
    "\t\t\tif(not os.path.exists(fn)):\n",
    "\t\t\t\tf = open(fn,'a')\n",
    "\t\t\t\tprint('File created.')\n",
    "\t\t\telse:\n",
    "\t\t\t\tprint('File already exists.')\n",
    "\t\t#Delete File\n",
    "\t\telif op==2:\n",
    "\t\t\tfn= input('Enter file name to be deleted: ')\n",
    "\t\t\tif(os.path.exists(fn)):\n",
    "\t\t\t\tos.remove(fn)\n",
    "\t\t\t\tprint(fn +' was deleted.')\n",
    "\t\t\telse:\n",
    "\t\t\t\tprint('File does not exist.')\n",
    "\t\t#Read File\n",
    "\t\telif op==3:\n",
    "\t\t\tfn= input('Enter file name to read: ')\n",
    "\t\t\tif(os.path.isfile(fn)):\n",
    "\t\t\t\tf = open(fn)\n",
    "\t\t\t\tdata = f.read()\n",
    "\t\t\t\tprint(data)\n",
    "\t\t\t\tf.close()\n",
    "\t\t\telse:\n",
    "\t\t\t\tprint('File does not exist.')\n",
    "\t\t#Write File\n",
    "\t\telif op==4:\n",
    "\t\t\tfn = input('Enter file name: ')\n",
    "\t\t\tif(os.path.isfile(fn)):\n",
    "\t\t\t\tf=open(fn,a)\n",
    "\t\t\t\tprint('Enter data, pree q to quit. ')\n",
    "\t\t\t\tdata = input()\n",
    "\t\t\t\twhile  data!=q:\n",
    "\t\t\t\t\tf.write(data+'\\n')\n",
    "\t\t\t\t\tdata=input()\n",
    "\t\t\t\tf.close()\n",
    "\t\t\telse:\n",
    "\t\t\t\tprint('File does not exist')\n",
    "\t\t\t# try:\n",
    "\t\t\t# \tfn = input('Enter file name: ')\n",
    "\t\t\t# \tif(os.path.isfile(fn)):\n",
    "\t\t\t# \t\tf = open(fn,'a')\n",
    "\t\t\t# \t\twhile True:\n",
    "\t\t\t# \t\t\top1= int(input('1:Write Line,2: Quit : '))\n",
    "\t\t\t# \t\t\tif op1 == 1:\n",
    "\t\t\t# \t\t\t\tdata = input('Enter data to write: ')\n",
    "\t\t\t# \t\t\t\tf.write(data+'\\n')\n",
    "\t\t\t# \t\t\telif op1 == 2:\n",
    "\t\t\t# \t\t\t\tf.close()\n",
    "\t\t\t# \t\t\t\tbreak\n",
    "\t\t\t# \t\t\telse:\n",
    "\t\t\t# \t\t\t\tprint('Invalid Option')\n",
    "\t\t\t# \telse:\n",
    "\t\t\t# \t\tprint('File does not exist')\n",
    "\t\t\t# except ValueError:\n",
    "\t\t\t# \tprint('You need to enter integers only')\n",
    "\t\t#exit the program\n",
    "\t\telif op==5:\n",
    "\t\t\tbreak\n",
    "\t\t#invalid input\t\n",
    "\t\telse:\n",
    "\t\t\tprint('Invalid Option')\n",
    "\n",
    "\texcept ValueError:\n",
    "\t\tprint('You need to enter integers only')\n",
    "\n"
   ]
  },
  {
   "cell_type": "markdown",
   "metadata": {},
   "source": [
    "## pickle operations"
   ]
  },
  {
   "cell_type": "markdown",
   "metadata": {},
   "source": [
    "import pickle\n",
    "\n",
    "class Student:\n",
    "\tdef __init__(self,rno,name):\n",
    "\t\tself.rno = rno\n",
    "\t\tself.name = name\n",
    "\tdef showinfo(self):\n",
    "\t\tprint('Rno',self.rno,'Name',self.name)\n",
    "\n",
    "student=[]\n",
    "#load file on start\n",
    "try:\n",
    "\twith open('data.ser','rb') as f:\n",
    "\t\tstudent = pickle.load(f)\n",
    "except:\n",
    "\tpass\n",
    "while True:\n",
    "\ttry:\n",
    "\t\top=int(input('1:add student,2: view,3: remove,4: exit'))\n",
    "\t\t#add student\n",
    "\t\tif op==1:\n",
    "\t\t\trno = int(input('enter roll no.'))\n",
    "\t\t\tname = input('enter name')\n",
    "\t\t\ts = Student(rno, name)\n",
    "\t\t\tstudent.append(s)\n",
    "\t\t#view student\n",
    "\t\telif op==2:\n",
    "\t\t\tfor i in range(len(student)):\n",
    "\t\t\t\tstudent[i].showinfo()\n",
    "\t\t#remove student\n",
    "\t\telif op==3:\n",
    "\t\t\trno = int(input('enter roll no. to be deleted: '))\n",
    "\t\t\tfor i in range(len(student)):\n",
    "\t\t\t\tif student[i].rno == rno:\n",
    "\t\t\t\t\tstudent.remove(student[i])\n",
    "\t\t\t\t\tbreak\n",
    "\t\t#dump file and exit\n",
    "\t\telif op==4:\n",
    "\t\t\twith open('data.ser','wb') as f:\n",
    "\t\t\t\tpickle.dump(student,f)\n",
    "\t\t\tbreak\n",
    "\t\telse:\n",
    "\t\t\tprint('Invalid Option')\n",
    "\texcept ValueError:\n",
    "\t\tprint('You need to enter integers only.')"
   ]
  },
  {
   "cell_type": "markdown",
   "metadata": {},
   "source": [
    "### Lecture 10"
   ]
  },
  {
   "cell_type": "code",
   "execution_count": null,
   "metadata": {},
   "outputs": [],
   "source": []
  }
 ],
 "metadata": {
  "kernelspec": {
   "display_name": "Python 3",
   "language": "python",
   "name": "python3"
  },
  "language_info": {
   "codemirror_mode": {
    "name": "ipython",
    "version": 3
   },
   "file_extension": ".py",
   "mimetype": "text/x-python",
   "name": "python",
   "nbconvert_exporter": "python",
   "pygments_lexer": "ipython3",
   "version": "3.6.4"
  }
 },
 "nbformat": 4,
 "nbformat_minor": 2
}
